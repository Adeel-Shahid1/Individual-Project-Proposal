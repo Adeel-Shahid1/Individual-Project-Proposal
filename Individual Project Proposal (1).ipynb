{
 "cells": [
  {
   "cell_type": "markdown",
   "id": "4e898e03",
   "metadata": {},
   "source": [
    "# Individual Project Proposal"
   ]
  },
  {
   "cell_type": "markdown",
   "id": "97a31c74",
   "metadata": {},
   "source": [
    "#### The aim of this project is to explore how personality traits and the desire for social interaction influences life satisfaction and happiness. I will focus on how individuals perceive their sense of loneliness (or the absence of it) in relation to their personality, and how this perception impacts their overall well-being."
   ]
  },
  {
   "cell_type": "markdown",
   "id": "76ede45d",
   "metadata": {},
   "source": [
    "## Analysis 1"
   ]
  },
  {
   "cell_type": "markdown",
   "id": "cadb5f08",
   "metadata": {},
   "source": [
    "### Research Question\n",
    "How does extraversion and the desire for frequent social interactions influence life satisfaction?\n",
    "\n",
    "I will be looking into the association of extraversion and social interaction with self reported life satisfaction levels. The big five model has been used to collect data related to personality traits which I will use to define variables below."
   ]
  },
  {
   "cell_type": "markdown",
   "id": "e28fd0e3",
   "metadata": {},
   "source": [
    "### Variables\n",
    "\n",
    "To measure extraversion and a desire for social interactions I may use:\n",
    "\n",
    "##### 1. PSYCH_big_five_inventory_talks - I see myself as someone who talks a lot\n",
    "\n",
    "Relevance: This directly measures a key trait of extraversion, as extroverts are typically more talkative.\n",
    "\n",
    "Visualisation: Bar chart to show the frequency of each reponse and the degree to which they agree of disagree. It is a simple and easy way to understand the data.\n",
    "\n",
    "##### 2. CONNECTION_social_barriers_no_troubles - No social barriers\n",
    "\n",
    "Relevance: The absence of barriers to social interaction can be associated with higher levels of extraversion and a desire for social interactions.\n",
    "\n",
    "Visualisation: This is like YES/NO question and a pie chart can illustrate the population with no social barriers, and those who have not selected in a simple way.\n",
    "##### 3. CONNECTION_comfort_talking_with_strangers - How comfortable are you talking with strangers?\n",
    "\n",
    "Relevance: Comfort in talking with strangers is a strong indicator of extraversion.\n",
    "\n",
    "Visualisation: A histogram can show the distribution of comfort levels when talking with strangers, ranging from very uncomfortable to very comfortable, in a way that is easy to read.\n",
    "\n",
    "##### 4. CONNECTION_social_barriers_introvert - I am an introvert \n",
    "\n",
    "Relevance: Lower scores on this variable would suggest higher extraversion.\n",
    "\n",
    "Visualisation: This is like YES/NO question and a pie chart can illustrate the population with no social barriers, and those who have not selected in a simple way.\n",
    "\n",
    "I have listed these variables since they can help reflect whether an individual is extroverted or not. An extrovert would likely see themselves as people who talk a lot, can comfortably talk to strangers and are not introverted. Some may be more important than others.\n",
    "\n",
    "The above variables can be seen as independent, affecting the dependent variable below.\n",
    "\n",
    "##### WELLNESS_life_satisfaction - How do you feel about your life as a whole right now?\n",
    "\n",
    "Relevance: Can measure life satisfaction and a correlation between extraversion and low/high life satisfaction\n",
    "\n",
    "Visualisation: A box plot can display the range, median, and quartiles of life satisfaction scores to highlight the overall distribution.\n",
    "\n",
    "It can also be useful to create a histogram of Life Satisfaction scores or any of the variables to understand its distribution.\n"
   ]
  },
  {
   "cell_type": "markdown",
   "id": "8d647b76",
   "metadata": {},
   "source": [
    "### Analysis Method\n",
    "\n",
    "For this research question, I will be using the chi-square test  to determine if there is an association between extraversion and life satisfaction.\n",
    "\n",
    "##### Define Hypothesis\n",
    "Null Hypothesis (H0): There is no association between extraversion/social interaction and life satisfaction.\n",
    "\n",
    "Alternative Hypothesis (H1): There is an association between extraversion/social interaction and life satisfaction\n",
    "\n",
    "Since the data is already categorized, a contingency table can then be made.\n",
    "\n",
    "##### Create a contingency table\n",
    "For each independent variable (e.g., PSYCH_big_five_inventory_talks), create a contingency table with WELLNESS_life_satisfaction.\n",
    "\n",
    "##### Calculate the expected frequencies, compute the Chi-Squared Statistic and determine the degrees of freedom\n",
    "For each cell in the contingency table, calculate the expected frequency assuming no association between the variables. Then, compute the Chi-Squared Statistic and find the degrees of freedom.\n",
    "\n",
    "##### Compare the Chi-Squared Statistic to the Critical Value:\n",
    "Compare the calculated Chi-Squared statistic to the critical value from the Chi-Squared distribution table at the desired significance level (e.g., 0.05). If the Chi-Squared statistic is greater than the critical value, we reject the null hypothesis.\n",
    "\n",
    "From this we can learn if there is a significant association between the independent variables and life satisfaction. This can inform us about the relationship between extraversion, social interactions, and life satisfaction\n",
    "\n",
    "#### Assumptions\n",
    "The expected frequency for each cell in the contingency table should be at least 5. This assumption is essential for the chi-square test to be valid because low frequencies can make the test inaccurate.\n",
    "\n",
    "Each observation or data point should be independent of other and each subject or case should only contribute to one cell in the contingency table.\n",
    "\n",
    "The \"independent\" variables are actually independent, and the \"dependent\" variables are dependent."
   ]
  },
  {
   "cell_type": "markdown",
   "id": "37f25624",
   "metadata": {},
   "source": [
    "#### The above resarch question attempts to draw a connection between an outgoing personality and how that affects life satisfaction.This question aims to uncover how life satisfaction might vary based on a person's level of social engagement, relating to the original goal of understanding the relationship between personality traits and life satisfaction and happiness. I will now explore how an individual's need for social interaction affects their percieved satisfaction in life. "
   ]
  },
  {
   "cell_type": "markdown",
   "id": "80fa4fc5",
   "metadata": {},
   "source": [
    "## Analysis 2"
   ]
  },
  {
   "cell_type": "markdown",
   "id": "06a51147",
   "metadata": {},
   "source": [
    "### Research Question\n",
    "How does an individual’s need for social interaction affect their perceived satisfaction in life?"
   ]
  },
  {
   "cell_type": "markdown",
   "id": "80a276e5",
   "metadata": {},
   "source": [
    "### Variables\n",
    "\n",
    "To measure an individuals need for social interaction I will use: \n",
    "\n",
    "(independent variable)"
   ]
  },
  {
   "cell_type": "markdown",
   "id": "35b06ce5",
   "metadata": {},
   "source": [
    "##### 1.PSYCH_need_to_belong_scale_dislike_being_alone - Determines whether the respondent does not like being alone\n",
    "\n",
    "Relevance: Discomfort with being alone can indicate a need for greater social interaction\n",
    "\n",
    "Visualisation: Use a bar chart to show the frequency of each response.\n",
    "\n",
    "##### 2. PSYCH_need_to_belong_scale_being_apart_from_friends_okay -  Measures the extent to which individuals are comfortable being apart from their friends for long periods.\n",
    "\n",
    "Relevance: This provides insight into an individual's social requirements based on the need to be with friends.\n",
    "\n",
    "Visualisation: A histogram can show the distribution of comfort levels ranging from agreement to being comfortable to disagreement. A histogram is easy to read and understand in this case.\n",
    "\n",
    "#####  3. LONELY_phenotype - Which of the given options defines your experience with loneliness?\n",
    "Relevance: This provides insight into how an individual's percieved loneliness affects their life satisfaction when compared to life satisfaction. Though this seems to deviate from the research question, it is pivotal to understanding how one's actual loneliness, as well as their need for social interaction affects life satisfaction.\n",
    "\n",
    "Visualisation: A histogram can show the distribution for the frequency of each of the available answers.\n",
    "\n",
    "The above variables can be seen as independent, affecting the \"dependent\" variable below.\n",
    "\n",
    "##### WELLNESS_life_satisfaction - How do you feel about your life as a whole right now?\n",
    "\n",
    "Relevance: Can measure life satisfaction and a correlation between a need for extraversion and low/high life satisfaction\n",
    "\n",
    "Visualisation: A box plot can display the range, median, and quartiles of life satisfaction scores to highlight the overall distribution.\n",
    "\n",
    "\n"
   ]
  },
  {
   "cell_type": "markdown",
   "id": "584c1460",
   "metadata": {},
   "source": [
    "### Analysis Method\n",
    "\n",
    "The same analysis method will be used as the first question (Chi-square method), with the same steps such as contingency tables with an independent and dependent variable. The same assumptions will be made. I have defined the hypothesis below.\n",
    "\n",
    "##### Define Hypothesis\n",
    "Null Hypothesis (H0): There is no association between an individual’s need for social interaction affect their perceived satisfaction in life\n",
    "\n",
    "Alternative Hypothesis (H1): There is an association between an individual’s need for social interaction affect their perceived satisfaction in life\n",
    "\n",
    "The results from this analysis allow us to understand the level of assocation between a need for social interaction and an individual's loneliness affets their perceived life satisfaction."
   ]
  },
  {
   "cell_type": "markdown",
   "id": "4f928793",
   "metadata": {},
   "source": [
    "This question goes beyond personality traits to look at an individual's desire for social interaction itself, regardless of personality type.This question is essential for examining how different levels of social need impact happiness and life contentment.\n",
    "\n",
    "#### Finally, I would like to analyze how certain personality traits affect life satisfaction and perceived happiness. "
   ]
  },
  {
   "cell_type": "markdown",
   "id": "2e1a4c16",
   "metadata": {},
   "source": [
    "### Research Question\n",
    "How do neuroticism and social anxiety influence perceived happiness and life satisfaction.\n",
    "\n",
    "I have chosen neuroticism since it is a personality trait associated with emotional instability and negative emotions. Social anxiety is also important as a measurement to understand how a trait like anxiety in social situations impacts happiness and social satisfaction."
   ]
  },
  {
   "cell_type": "markdown",
   "id": "3ef7657a",
   "metadata": {},
   "source": [
    "### Variables\n",
    "\n",
    "To measure the neuroticism and social anxiety I will use:\n",
    "\n",
    "##### 1.PSYCH_social_interactions_anxiety_scale_talking - Measures the degree of difficulty an individual has when talking to other people.\n",
    "\n",
    "Relevance: This is a good measure of social anxiety in terms of talking to people. A high difficulty indicates a high level of social anxiety.\n",
    "\n",
    "Visualisation: A violin plot to show the distribution of social anxiety scores. (degree of difficulty talking to people)\n",
    "\n",
    "##### 2.PSYCH_social_interactions_anxiety_scale_eye_contact - Determines whether an individual has difficulty making eye contact or not.\n",
    "\n",
    "Relevance: This is a good measure of social anxiety in terms of eye contact. A greater difficulty in making eye contact can indicate greater social anxiety.\n",
    "\n",
    "Visualisation: A bar chart can be used to show the frequency of each degree of difficulty/response or even a violin plot in conjunction with the previous variable.\n",
    "\n",
    "##### 3.PSYCH_big_five_inventory_worries - Determines whether an individual believes they worry a lot or not.\n",
    "\n",
    "Relevance: This variable can give a measure of neuroticism and social anxiety since a common result of the two is being worried often. If an individual believes they worry a lot, this can indicate neurotic behavior.\n",
    "\n",
    "Visualisation: A histogram can be used to create a distribution, showing the frequency of each response.\n",
    "\n",
    "The above variables can be seen as independent, affecting the \"dependent\" variables below.\n",
    "\n",
    "##### 1.WELLNESS_life_satisfaction - How do you feel about your life as a whole right now?\n",
    "\n",
    "Relevance: Can be used to measure life satisfaction and a correlation between neuroticism/social anxiety and high/low life satisfaction.\n",
    "\n",
    "Visualisation: A box plot can display the range, median, and quartiles of life satisfaction scores to highlight the overall distribution.\n",
    "\n",
    "##### 2.WELLNESS_subjective_happiness_scale_happy - How happy an individual considers themselves?\n",
    "\n",
    "Relevance: Can measure happiness with self reported data and use this to see if a correleation between neuroticism/social anxiety and high/low happiness exists.\n",
    "\n",
    "Visualisation: A box plot can display the range, median, and quartiles of happiness scores to highlight the overall distribution.\n"
   ]
  },
  {
   "cell_type": "markdown",
   "id": "5e106f58",
   "metadata": {},
   "source": [
    "### Analysis Method\n",
    "\n",
    "The same analysis method will be used as the first question (Chi-square method), with the same steps such as contingency tables with an independent and dependent variable. The same assumptions will be made. However, in this question I have used 2 \"dependent\" variables so a seperate contingency tables may need to be used for both dependent variables (with each dependent variable).\n",
    "\n",
    "I have defined the hypothesis below.\n",
    "\n",
    "##### Define Hypothesis\n",
    "Null Hypothesis (H0): There is no association between an inividual's neuroticism/social anxiety and perceived happiness and life satisfaction.\n",
    "\n",
    "Alternative Hypothesis (H1): There is an association between an inividual's neuroticism/social anxiety and perceived happiness and life satisfaction.\n",
    "\n",
    "The results from this analysis allow us to understand the level of assocation between an inividual's neuroticism/social anxiety and perceived happiness and life satisfaction.\n",
    "\n",
    "\n",
    "##### This question is crucial for understanding the flip side of social desire - how people who experience social discomfort or worry perceive their well-being and satisfaction in life."
   ]
  },
  {
   "cell_type": "code",
   "execution_count": null,
   "id": "aa77b738",
   "metadata": {},
   "outputs": [],
   "source": []
  }
 ],
 "metadata": {
  "kernelspec": {
   "display_name": "Python 3 (ipykernel)",
   "language": "python",
   "name": "python3"
  },
  "language_info": {
   "codemirror_mode": {
    "name": "ipython",
    "version": 3
   },
   "file_extension": ".py",
   "mimetype": "text/x-python",
   "name": "python",
   "nbconvert_exporter": "python",
   "pygments_lexer": "ipython3",
   "version": "3.11.6"
  }
 },
 "nbformat": 4,
 "nbformat_minor": 5
}
